{
 "cells": [
  {
   "cell_type": "code",
   "execution_count": 1,
   "metadata": {},
   "outputs": [
    {
     "name": "stdout",
     "output_type": "stream",
     "text": [
      "Author        : S Monroe\n",
      "Version       : 3.8.3 (default, Jul  2 2020, 17:30:36) [MSC v.1916 64 bit (AMD64)]\n",
      "NumPy lib     : 1.18.5\n",
      "Encoding      : utf-8\n",
      "Timestamp     : 1635524294.028864\n"
     ]
    }
   ],
   "source": [
    "from math import cos, sin, tan, acos, asin, atan, atan2, degrees, radians\n",
    "from numpy import reciprocal, pi, sqrt, angle, exp\n",
    "import numpy as np\n",
    "import time, sys\n",
    "import scipy.constants as const\n",
    "\n",
    "#hextime=float.hex(time.time())\n",
    "\n",
    "# The foregoing is a clunky way to do this\n",
    "# Haven't spent a lot of time thinking through a more elegant solution\n",
    "\n",
    "def cosd(x):\n",
    "  return cos(radians(x))\n",
    "\n",
    "def sind(x):\n",
    "  return sin(radians(x))\n",
    "\n",
    "def tand(x):\n",
    "  return tan(radians(x))\n",
    "\n",
    "def acosd(x):\n",
    "  return degrees(acos(x))\n",
    "\n",
    "def asind(x):\n",
    "  return degrees(asin(x))\n",
    "\n",
    "def atand(x):\n",
    "  return degrees(atan(x))\n",
    "\n",
    "def atan2d(y, x):\n",
    "  return degrees(atan2(y, x))\n",
    "\n",
    "## Now define conversion functions:\n",
    "\n",
    "def P2R(radii, angles):\n",
    "    return radii * exp(1j*angles*(pi/180))\n",
    "\n",
    "def R2P(x):\n",
    "    return abs(x), angle(x, deg=True)\n",
    "\n",
    "\n",
    "print(\"Author        : S Monroe\")\n",
    "print(\"Version       :\",sys.version[0:100])\n",
    "print(\"NumPy lib     :\",np.version.version)\n",
    "print(\"Encoding      :\",sys.getdefaultencoding())\n",
    "print(\"Timestamp     :\",time.time())"
   ]
  },
  {
   "cell_type": "markdown",
   "metadata": {},
   "source": [
    "# Capacitively coupled multistage amplifier"
   ]
  },
  {
   "cell_type": "code",
   "execution_count": 2,
   "metadata": {},
   "outputs": [],
   "source": [
    "#Calculate thermal voltage:\n",
    "Temp=300.15\n",
    "VT=(const.k*Temp)/(const.e)"
   ]
  },
  {
   "cell_type": "code",
   "execution_count": 3,
   "metadata": {},
   "outputs": [],
   "source": [
    "# Base to Emitter: forward bias\n",
    "v_π=700.0E-3"
   ]
  },
  {
   "cell_type": "code",
   "execution_count": 4,
   "metadata": {},
   "outputs": [],
   "source": [
    "# Set bias\n",
    "VCC=24."
   ]
  },
  {
   "cell_type": "code",
   "execution_count": 5,
   "metadata": {},
   "outputs": [],
   "source": [
    "# Set load\n",
    "RL=1200."
   ]
  },
  {
   "cell_type": "code",
   "execution_count": 6,
   "metadata": {},
   "outputs": [],
   "source": [
    "# Set input source values\n",
    "EGEN=2.0E-6\n",
    "RS=0.1"
   ]
  },
  {
   "cell_type": "code",
   "execution_count": 7,
   "metadata": {},
   "outputs": [],
   "source": [
    "# Set Stage 1 inputs:\n",
    "β1=100.0\n",
    "R1_1=120000.\n",
    "R2_1=39000.\n",
    "RC_1=12000.\n",
    "RE_1=3900.\n",
    "RE_AC_1=100E-6"
   ]
  },
  {
   "cell_type": "code",
   "execution_count": 8,
   "metadata": {},
   "outputs": [],
   "source": [
    "# Set Stage 2 inputs:\n",
    "β2=100.\n",
    "R1_2=75000.\n",
    "R2_2=8200.\n",
    "RC_2=75000.\n",
    "RE_2=3900.\n",
    "RE_AC_2=100E-6"
   ]
  },
  {
   "cell_type": "code",
   "execution_count": 9,
   "metadata": {},
   "outputs": [],
   "source": [
    "# Capacitor Values\n",
    "C1=18.0E-6\n",
    "C2=270.0E-6\n",
    "C3=18.0E-6\n",
    "C4=270.0E-6\n",
    "C5=15.0E-6"
   ]
  },
  {
   "cell_type": "code",
   "execution_count": 10,
   "metadata": {},
   "outputs": [],
   "source": [
    "# Stage 1 Calculated values:\n",
    "VE_1=(((R2_1/(R2_1+R1_1))*VCC)-v_π)*((RE_1*β1)/((RE_1*β1)+(reciprocal(reciprocal(R1_1)+reciprocal(R2_1)))))\n",
    "VB_1=VE_1+v_π\n",
    "IE_1=VE_1/RE_1\n",
    "VC_1=VCC-(IE_1*RC_1)\n",
    "re_1= VT/IE_1\n",
    "Zin_1=reciprocal(reciprocal((re_1+RE_AC_1)*β1)+reciprocal(R1_1)+reciprocal(R2_1))\n",
    "Zout_1=RC_1\n",
    "vin1=(Zin_1/(Zin_1+RS))*EGEN\n"
   ]
  },
  {
   "cell_type": "code",
   "execution_count": 11,
   "metadata": {},
   "outputs": [],
   "source": [
    "# Stage 2 Calculated values\n",
    "VE_2=(((R2_2/(R2_2+R1_2))*VCC)-v_π)*((RE_2*β2)/((RE_2*β2)+(reciprocal(reciprocal(R1_2)+reciprocal(R2_2)))))\n",
    "VB_2=VE_2+v_π\n",
    "IE_2=VE_2/RE_2\n",
    "VC_2=VCC-(IE_2*RC_2)\n",
    "re_2=VT/IE_2\n",
    "Zout_2=RC_2"
   ]
  },
  {
   "cell_type": "code",
   "execution_count": 12,
   "metadata": {},
   "outputs": [],
   "source": [
    "# Interdependent calulated values:\n",
    "\n",
    "RL_1=reciprocal(reciprocal((re_2+RE_AC_2)*β2)+reciprocal(R1_2)+reciprocal(R2_2))\n",
    "AV_L1=reciprocal(reciprocal(RC_1)+reciprocal(RL_1))/(RE_AC_1+re_1)\n",
    "vout1=vin1*AV_L1\n",
    "AV_L2=reciprocal(reciprocal(RC_2)+reciprocal(RL))/(RE_AC_2+re_2)\n",
    "Zin_2=RL_1\n",
    "vin2=vout1\n",
    "vout2=vin2*AV_L2"
   ]
  },
  {
   "cell_type": "code",
   "execution_count": 13,
   "metadata": {},
   "outputs": [
    {
     "name": "stdout",
     "output_type": "stream",
     "text": [
      "Stage 1 DC Solution:\n",
      "\n",
      "  VE(stage 1): 4.82281 V\n",
      "  VB(stage 1): 5.52281 V\n",
      "  IE(stage 1): 0.00124 A\n",
      "  VC(stage 1): 9.16059 V\n",
      " r'e(stage 1): 20.91587 Ω\n",
      "  AV(stage 1): 125.60402\n",
      " Zin(stage 1): 1952.82786 Ω\n",
      "Zout(stage 1): 12000.00000 Ω\n",
      "\n",
      "Stage 1 AC Solution:\n",
      "\n",
      "  vin(stage 1): 1.99990e-06 V\n",
      " vout(stage 1): 0.00025 V\n",
      "\n",
      "Stage 2 DC Solution:\n",
      "\n",
      "  VE(stage 2): 1.63441 V\n",
      "  VB(stage 2): 2.33441 V\n",
      "  IE(stage 2): 0.00042 A\n",
      "  VC(stage 2): -7.43090 V\n",
      " r'e(stage 2): 61.71854 Ω\n",
      "  AV(stage 2): 19.13688\n",
      " Zin(stage 2): 3363.49076 Ω\n",
      "Zout(stage 2): 75000.00000 Ω\n",
      "\n",
      "Stage 2 AC Solution:\n",
      "\n",
      "  vin(stage 2): 2.51195e-04 V\n",
      " vout(stage 2): 4.80709e-03 V\n"
     ]
    }
   ],
   "source": [
    "print(\"Stage 1 DC Solution:\")\n",
    "print()\n",
    "print(\"  VE(stage 1):\",'{0:.5f}'.format(VE_1),\"V\")\n",
    "print(\"  VB(stage 1):\",'{0:.5f}'.format(VB_1),\"V\")\n",
    "print(\"  IE(stage 1):\",'{0:.5f}'.format(IE_1),\"A\")\n",
    "print(\"  VC(stage 1):\",'{0:.5f}'.format(VC_1),\"V\")\n",
    "print(\" r'e(stage 1):\",'{0:.5f}'.format(re_1),\"\\u03A9\")\n",
    "print(\"  AV(stage 1):\",'{0:.5f}'.format(AV_L1))\n",
    "print(\" Zin(stage 1):\",'{0:.5f}'.format(Zin_1),\"\\u03A9\")\n",
    "print(\"Zout(stage 1):\",'{0:.5f}'.format(Zout_1),\"\\u03A9\")\n",
    "print()\n",
    "print(\"Stage 1 AC Solution:\")\n",
    "print()\n",
    "print(\"  vin(stage 1):\",'{0:.5e}'.format(vin1),\"V\")\n",
    "print(\" vout(stage 1):\",'{0:.5f}'.format(vout1),\"V\")\n",
    "print()\n",
    "print(\"Stage 2 DC Solution:\")\n",
    "print()\n",
    "print(\"  VE(stage 2):\",'{0:.5f}'.format(VE_2),\"V\")\n",
    "print(\"  VB(stage 2):\",'{0:.5f}'.format(VB_2),\"V\")\n",
    "print(\"  IE(stage 2):\",'{0:.5f}'.format(IE_2),\"A\")\n",
    "print(\"  VC(stage 2):\",'{0:.5f}'.format(VC_2),\"V\")\n",
    "print(\" r'e(stage 2):\",'{0:.5f}'.format(re_2),\"\\u03A9\")\n",
    "print(\"  AV(stage 2):\",'{0:.5f}'.format(AV_L2))\n",
    "print(\" Zin(stage 2):\",'{0:.5f}'.format(Zin_2),\"\\u03A9\")\n",
    "print(\"Zout(stage 2):\",'{0:.5f}'.format(Zout_2),\"\\u03A9\")\n",
    "print()\n",
    "print(\"Stage 2 AC Solution:\")\n",
    "print()\n",
    "print(\"  vin(stage 2):\",'{0:.5e}'.format(vin2),\"V\")\n",
    "print(\" vout(stage 2):\",'{0:.5e}'.format(vout2),\"V\")"
   ]
  },
  {
   "cell_type": "code",
   "execution_count": 14,
   "metadata": {},
   "outputs": [
    {
     "name": "stdout",
     "output_type": "stream",
     "text": [
      "    Circuit gain: 2403.66954\n",
      "Circuit gain(dB): 67.617 dB\n"
     ]
    }
   ],
   "source": [
    "AV=AV_L1*AV_L2\n",
    "AVdb=20*np.log10(AV)\n",
    "print(\"    Circuit gain:\",'{0:.5f}'.format(AV))\n",
    "print(\"Circuit gain(dB):\",'{0:.3f}'.format(AVdb),\"dB\")"
   ]
  },
  {
   "cell_type": "code",
   "execution_count": 15,
   "metadata": {},
   "outputs": [
    {
     "name": "stdout",
     "output_type": "stream",
     "text": [
      "20.805286232654865\n",
      "104.57888542532685\n"
     ]
    }
   ],
   "source": [
    "# frequency limiting calculations for bypass capacitors:\n",
    "REQ1=1/(1/(((1/((1/RS)+(1/R1_1)+(1/R2_1)))/β1)+re_1)+(1/RE_1))\n",
    "REQ2=1/(1/(((1/((1/RC_1)+(1/R1_2)+(1/R2_2)))/β2)+re_2)+(1/RE_2))\n",
    "print(REQ1)\n",
    "print(REQ2)"
   ]
  },
  {
   "cell_type": "code",
   "execution_count": 16,
   "metadata": {},
   "outputs": [],
   "source": [
    "fcl1=reciprocal(2*pi*C1*(RS+Zin_1))\n",
    "fcl2=reciprocal(2*pi*C2*(REQ1))\n",
    "fcl3=reciprocal(2*pi*C3*(RC_1+RL_1))\n",
    "fcl4=reciprocal(2*pi*C4*(REQ2))\n",
    "fcl5=reciprocal(2*pi*C5*(RC_2+RL))"
   ]
  },
  {
   "cell_type": "code",
   "execution_count": 17,
   "metadata": {},
   "outputs": [
    {
     "name": "stdout",
     "output_type": "stream",
     "text": [
      "  fcl_1: 4.52753 Hz\n",
      "  fcl_2: 28.33235 Hz\n",
      "  fcl_3: 0.57552 Hz\n",
      "  fcl_4: 5.63654 Hz\n",
      "  fcl_5: 0.13924 Hz\n"
     ]
    }
   ],
   "source": [
    "print(\"  fcl_1:\",'{0:.5f}'.format(fcl1),\"Hz\")\n",
    "print(\"  fcl_2:\",'{0:.5f}'.format(fcl2),\"Hz\")\n",
    "print(\"  fcl_3:\",'{0:.5f}'.format(fcl3),\"Hz\")\n",
    "print(\"  fcl_4:\",'{0:.5f}'.format(fcl4),\"Hz\")\n",
    "print(\"  fcl_5:\",'{0:.5f}'.format(fcl5),\"Hz\")"
   ]
  }
 ],
 "metadata": {
  "kernelspec": {
   "display_name": "Python 3 (ipykernel)",
   "language": "python",
   "name": "python3"
  },
  "language_info": {
   "codemirror_mode": {
    "name": "ipython",
    "version": 3
   },
   "file_extension": ".py",
   "mimetype": "text/x-python",
   "name": "python",
   "nbconvert_exporter": "python",
   "pygments_lexer": "ipython3",
   "version": "3.11.4"
  }
 },
 "nbformat": 4,
 "nbformat_minor": 2
}
